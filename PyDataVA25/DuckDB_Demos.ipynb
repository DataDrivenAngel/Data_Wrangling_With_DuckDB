{
 "cells": [
  {
   "cell_type": "markdown",
   "id": "d7ea5fd5-0195-4835-9377-91c20b962a5e",
   "metadata": {},
   "source": [
    " # Wrangling Data With DuckDB"
   ]
  },
  {
   "cell_type": "code",
   "execution_count": 1,
   "id": "db859265-2ae6-4f1f-990c-2737791cb0ca",
   "metadata": {},
   "outputs": [],
   "source": [
    "import duckdb"
   ]
  },
  {
   "cell_type": "code",
   "execution_count": 2,
   "metadata": {},
   "outputs": [],
   "source": [
    "data = duckdb.sql(\"select * from 'bea_gdp_virginia_2018-current.csv'\")"
   ]
  },
  {
   "cell_type": "code",
   "execution_count": null,
   "metadata": {},
   "outputs": [],
   "source": [
    "data"
   ]
  },
  {
   "cell_type": "code",
   "execution_count": null,
   "metadata": {},
   "outputs": [],
   "source": [
    "duckdb.sql(\"describe data\")"
   ]
  },
  {
   "cell_type": "code",
   "execution_count": null,
   "metadata": {},
   "outputs": [],
   "source": [
    "duckdb.sql(\"summarize data\")"
   ]
  },
  {
   "cell_type": "code",
   "execution_count": 6,
   "metadata": {},
   "outputs": [],
   "source": [
    "pd_df = data.to_df()"
   ]
  },
  {
   "cell_type": "code",
   "execution_count": 7,
   "metadata": {},
   "outputs": [],
   "source": [
    "import pandas as pd"
   ]
  },
  {
   "cell_type": "code",
   "execution_count": null,
   "metadata": {},
   "outputs": [],
   "source": [
    "pd_df.describe(include=\"all\").transpose()"
   ]
  },
  {
   "cell_type": "code",
   "execution_count": 9,
   "metadata": {},
   "outputs": [],
   "source": [
    "data.to_parquet('output.parquet')"
   ]
  },
  {
   "cell_type": "code",
   "execution_count": 17,
   "metadata": {},
   "outputs": [],
   "source": []
  },
  {
   "cell_type": "code",
   "execution_count": null,
   "metadata": {},
   "outputs": [],
   "source": []
  },
  {
   "cell_type": "code",
   "execution_count": 10,
   "metadata": {},
   "outputs": [],
   "source": [
    "duckdb.sql(\"INSTALL sqlite; LOAD sqlite;\")\n",
    "\n"
   ]
  },
  {
   "cell_type": "code",
   "execution_count": 11,
   "metadata": {},
   "outputs": [],
   "source": [
    "duckdb.sql(\"Create table if not exists benchmarks as select * from sqlite_scan('../benchmark_results.db','benchmark_results')\")\n"
   ]
  },
  {
   "cell_type": "code",
   "execution_count": null,
   "metadata": {},
   "outputs": [],
   "source": [
    "duckdb.sql(\"SELECT * FROM benchmarks\").to_df().describe(include=\"all\").transpose()"
   ]
  },
  {
   "cell_type": "code",
   "execution_count": 13,
   "metadata": {},
   "outputs": [],
   "source": [
    "\n",
    "df = duckdb.sql(\"\"\" \n",
    "FROM benchmarks\n",
    "SELECT \n",
    "tool\n",
    ", file_size\n",
    ", regexp_replace(operation, '\\d+$', '') as operation      -- remove trailing integers\n",
    ", execution_time\n",
    "\n",
    "\"\"\").to_df()\n"
   ]
  },
  {
   "cell_type": "code",
   "execution_count": null,
   "metadata": {},
   "outputs": [],
   "source": [
    "import pandas as pd\n",
    "import seaborn as sns\n",
    "import matplotlib.pyplot as plt\n",
    "\n",
    "# Create the lmplot with legend positioned at the upper middle left\n",
    "g = sns.lmplot(x='file_size', y='execution_time', data=df, hue='tool', \n",
    "               height=6, aspect=10/6,\n",
    "               legend_out=False)  # Keep legend inside the plot\n",
    "\n",
    "# Get the figure and axes from the FacetGrid\n",
    "fig = g.fig\n",
    "ax = g.axes[0, 0]  # The first (and only) subplot\n",
    "\n",
    "# Set x-axis to log scale\n",
    "ax.set_xscale('log')\n",
    "\n",
    "# Add title and labels\n",
    "ax.set_title('Execution Time Distribution by Tool', fontsize=16)\n",
    "ax.set_xlabel('File Size (rows)', fontsize=14)\n",
    "ax.set_ylabel('Execution Time (seconds)', fontsize=14)\n",
    "\n",
    "# Add grid for better readability\n",
    "ax.grid(axis='y', linestyle='--', alpha=0.7)\n",
    "\n",
    "# Update the legend position\n",
    "handles, labels = ax.get_legend_handles_labels()\n",
    "ax.legend(handles, labels, loc='upper left', bbox_to_anchor=(0.6, .65))\n",
    "\n",
    "# Improve aesthetics\n",
    "sns.despine(left=False, bottom=False, ax=ax)\n",
    "plt.tight_layout()\n",
    "\n",
    "# Show the plot\n",
    "plt.show()"
   ]
  },
  {
   "cell_type": "code",
   "execution_count": null,
   "metadata": {},
   "outputs": [],
   "source": []
  },
  {
   "cell_type": "code",
   "execution_count": 13,
   "metadata": {},
   "outputs": [],
   "source": []
  },
  {
   "cell_type": "code",
   "execution_count": null,
   "metadata": {},
   "outputs": [],
   "source": []
  },
  {
   "cell_type": "markdown",
   "metadata": {},
   "source": []
  },
  {
   "cell_type": "code",
   "execution_count": 17,
   "id": "0b2eddcd-e86c-4798-87b5-18a05d92f710",
   "metadata": {},
   "outputs": [],
   "source": [
    "\n",
    "source_data_url = \"https://data.virginia.gov/dataset/3c786292-3dd5-4327-adad-79332a31683c/resource/59a6ed5f-11ec-49a2-b394-bbfd3e90fe72/download/eva_procurement_data_2025.csv\"\n",
    "target_file_path = \"eVA_procurement_data_2025.parquet\"\n",
    "# 865 MB."
   ]
  },
  {
   "cell_type": "code",
   "execution_count": 14,
   "id": "ebbc3ee2-7757-4092-a94c-a16cbb817976",
   "metadata": {},
   "outputs": [],
   "source": [
    "#%%\n",
    "\n",
    "duckdb.sql(\"install httpfs; load httpfs;\")"
   ]
  },
  {
   "cell_type": "code",
   "execution_count": null,
   "id": "36f3bffc-0e54-45c0-842d-70d33d341bd0",
   "metadata": {},
   "outputs": [],
   "source": [
    "duckdb.from_csv_auto(data_url).to_parquet(target_file_path)"
   ]
  },
  {
   "cell_type": "code",
   "execution_count": null,
   "id": "fa4a5f12-c7c4-49a2-9026-641c21349a20",
   "metadata": {},
   "outputs": [],
   "source": []
  }
 ],
 "metadata": {
  "kernelspec": {
   "display_name": "Python 3",
   "language": "python",
   "name": "python3"
  },
  "language_info": {
   "codemirror_mode": {
    "name": "ipython",
    "version": 3
   },
   "file_extension": ".py",
   "mimetype": "text/x-python",
   "name": "python",
   "nbconvert_exporter": "python",
   "pygments_lexer": "ipython3",
   "version": "3.11.4"
  }
 },
 "nbformat": 4,
 "nbformat_minor": 2
}
