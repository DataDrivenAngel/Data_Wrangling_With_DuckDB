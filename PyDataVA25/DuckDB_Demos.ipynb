{
 "cells": [
  {
   "cell_type": "markdown",
   "id": "d7ea5fd5-0195-4835-9377-91c20b962a5e",
   "metadata": {},
   "source": [
    " # Wrangling Data With DuckDB"
   ]
  },
  {
   "cell_type": "code",
   "execution_count": 1,
   "id": "db859265-2ae6-4f1f-990c-2737791cb0ca",
   "metadata": {},
   "outputs": [],
   "source": [
    "import duckdb"
   ]
  },
  {
   "cell_type": "code",
   "execution_count": null,
   "metadata": {},
   "outputs": [],
   "source": [
    "data = duckdb.sql(\"select * from 'bea_gdp_virginia_2018-current.csv'\")"
   ]
  },
  {
   "cell_type": "code",
   "execution_count": null,
   "metadata": {},
   "outputs": [],
   "source": [
    "data"
   ]
  },
  {
   "cell_type": "code",
   "execution_count": null,
   "metadata": {},
   "outputs": [],
   "source": [
    "duckdb.sql(\"describe data\")"
   ]
  },
  {
   "cell_type": "code",
   "execution_count": null,
   "metadata": {},
   "outputs": [],
   "source": [
    "duckdb.sql(\"summarize data\")"
   ]
  },
  {
   "cell_type": "code",
   "execution_count": 45,
   "metadata": {},
   "outputs": [],
   "source": [
    "pd_df = data.to_df()"
   ]
  },
  {
   "cell_type": "code",
   "execution_count": 46,
   "metadata": {},
   "outputs": [],
   "source": [
    "import pandas as pd"
   ]
  },
  {
   "cell_type": "code",
   "execution_count": null,
   "metadata": {},
   "outputs": [],
   "source": [
    "pd_df.describe(include=\"all\").transpose()"
   ]
  },
  {
   "cell_type": "code",
   "execution_count": 58,
   "metadata": {},
   "outputs": [],
   "source": [
    "data.to_parquet('output.parquet')"
   ]
  },
  {
   "cell_type": "code",
   "execution_count": null,
   "metadata": {},
   "outputs": [],
   "source": []
  },
  {
   "cell_type": "code",
   "execution_count": 2,
   "metadata": {},
   "outputs": [],
   "source": [
    "duckdb.sql(\"INSTALL sqlite; LOAD sqlite;\")\n",
    "\n"
   ]
  },
  {
   "cell_type": "code",
   "execution_count": 3,
   "metadata": {},
   "outputs": [],
   "source": [
    "duckdb.sql(\"Create table if not exists benchmarks as select * from sqlite_scan('../benchmark_results.db','benchmark_results')\")\n"
   ]
  },
  {
   "cell_type": "code",
   "execution_count": 4,
   "metadata": {},
   "outputs": [
    {
     "data": {
      "text/html": [
       "<div>\n",
       "<style scoped>\n",
       "    .dataframe tbody tr th:only-of-type {\n",
       "        vertical-align: middle;\n",
       "    }\n",
       "\n",
       "    .dataframe tbody tr th {\n",
       "        vertical-align: top;\n",
       "    }\n",
       "\n",
       "    .dataframe thead th {\n",
       "        text-align: right;\n",
       "    }\n",
       "</style>\n",
       "<table border=\"1\" class=\"dataframe\">\n",
       "  <thead>\n",
       "    <tr style=\"text-align: right;\">\n",
       "      <th></th>\n",
       "      <th>count</th>\n",
       "      <th>unique</th>\n",
       "      <th>top</th>\n",
       "      <th>freq</th>\n",
       "      <th>mean</th>\n",
       "      <th>min</th>\n",
       "      <th>25%</th>\n",
       "      <th>50%</th>\n",
       "      <th>75%</th>\n",
       "      <th>max</th>\n",
       "      <th>std</th>\n",
       "    </tr>\n",
       "  </thead>\n",
       "  <tbody>\n",
       "    <tr>\n",
       "      <th>id</th>\n",
       "      <td>2697.0</td>\n",
       "      <td>NaN</td>\n",
       "      <td>NaN</td>\n",
       "      <td>NaN</td>\n",
       "      <td>1395.32703</td>\n",
       "      <td>1.0</td>\n",
       "      <td>723.0</td>\n",
       "      <td>1397.0</td>\n",
       "      <td>2071.0</td>\n",
       "      <td>2745.0</td>\n",
       "      <td>781.464219</td>\n",
       "    </tr>\n",
       "    <tr>\n",
       "      <th>file_size</th>\n",
       "      <td>2697.0</td>\n",
       "      <td>NaN</td>\n",
       "      <td>NaN</td>\n",
       "      <td>NaN</td>\n",
       "      <td>9991899.888765</td>\n",
       "      <td>1000.0</td>\n",
       "      <td>10000.0</td>\n",
       "      <td>1000000.0</td>\n",
       "      <td>2000000.0</td>\n",
       "      <td>100000000.0</td>\n",
       "      <td>27035132.351936</td>\n",
       "    </tr>\n",
       "    <tr>\n",
       "      <th>file_size_mb</th>\n",
       "      <td>2697.0</td>\n",
       "      <td>NaN</td>\n",
       "      <td>NaN</td>\n",
       "      <td>NaN</td>\n",
       "      <td>420.283668</td>\n",
       "      <td>0.03821</td>\n",
       "      <td>0.391479</td>\n",
       "      <td>41.055923</td>\n",
       "      <td>83.172863</td>\n",
       "      <td>4296.348894</td>\n",
       "      <td>1152.455854</td>\n",
       "    </tr>\n",
       "    <tr>\n",
       "      <th>operation</th>\n",
       "      <td>2697</td>\n",
       "      <td>14</td>\n",
       "      <td>groupby</td>\n",
       "      <td>490</td>\n",
       "      <td>NaN</td>\n",
       "      <td>NaN</td>\n",
       "      <td>NaN</td>\n",
       "      <td>NaN</td>\n",
       "      <td>NaN</td>\n",
       "      <td>NaN</td>\n",
       "      <td>NaN</td>\n",
       "    </tr>\n",
       "    <tr>\n",
       "      <th>tool</th>\n",
       "      <td>2697</td>\n",
       "      <td>3</td>\n",
       "      <td>pandas</td>\n",
       "      <td>1041</td>\n",
       "      <td>NaN</td>\n",
       "      <td>NaN</td>\n",
       "      <td>NaN</td>\n",
       "      <td>NaN</td>\n",
       "      <td>NaN</td>\n",
       "      <td>NaN</td>\n",
       "      <td>NaN</td>\n",
       "    </tr>\n",
       "    <tr>\n",
       "      <th>execution_time</th>\n",
       "      <td>2697.0</td>\n",
       "      <td>NaN</td>\n",
       "      <td>NaN</td>\n",
       "      <td>NaN</td>\n",
       "      <td>3.347161</td>\n",
       "      <td>0.000212</td>\n",
       "      <td>0.00428</td>\n",
       "      <td>0.031748</td>\n",
       "      <td>0.290803</td>\n",
       "      <td>106.196522</td>\n",
       "      <td>13.146476</td>\n",
       "    </tr>\n",
       "    <tr>\n",
       "      <th>timestamp</th>\n",
       "      <td>2697</td>\n",
       "      <td>NaN</td>\n",
       "      <td>NaN</td>\n",
       "      <td>NaN</td>\n",
       "      <td>2025-04-18 03:03:40.803856128</td>\n",
       "      <td>2025-04-17 23:08:05</td>\n",
       "      <td>2025-04-18 01:51:57</td>\n",
       "      <td>2025-04-18 03:03:46</td>\n",
       "      <td>2025-04-18 03:52:25</td>\n",
       "      <td>2025-04-18 06:15:45</td>\n",
       "      <td>NaN</td>\n",
       "    </tr>\n",
       "  </tbody>\n",
       "</table>\n",
       "</div>"
      ],
      "text/plain": [
       "                 count unique      top  freq                           mean  \\\n",
       "id              2697.0    NaN      NaN   NaN                     1395.32703   \n",
       "file_size       2697.0    NaN      NaN   NaN                 9991899.888765   \n",
       "file_size_mb    2697.0    NaN      NaN   NaN                     420.283668   \n",
       "operation         2697     14  groupby   490                            NaN   \n",
       "tool              2697      3   pandas  1041                            NaN   \n",
       "execution_time  2697.0    NaN      NaN   NaN                       3.347161   \n",
       "timestamp         2697    NaN      NaN   NaN  2025-04-18 03:03:40.803856128   \n",
       "\n",
       "                                min                  25%                  50%  \\\n",
       "id                              1.0                723.0               1397.0   \n",
       "file_size                    1000.0              10000.0            1000000.0   \n",
       "file_size_mb                0.03821             0.391479            41.055923   \n",
       "operation                       NaN                  NaN                  NaN   \n",
       "tool                            NaN                  NaN                  NaN   \n",
       "execution_time             0.000212              0.00428             0.031748   \n",
       "timestamp       2025-04-17 23:08:05  2025-04-18 01:51:57  2025-04-18 03:03:46   \n",
       "\n",
       "                                75%                  max              std  \n",
       "id                           2071.0               2745.0       781.464219  \n",
       "file_size                 2000000.0          100000000.0  27035132.351936  \n",
       "file_size_mb              83.172863          4296.348894      1152.455854  \n",
       "operation                       NaN                  NaN              NaN  \n",
       "tool                            NaN                  NaN              NaN  \n",
       "execution_time             0.290803           106.196522        13.146476  \n",
       "timestamp       2025-04-18 03:52:25  2025-04-18 06:15:45              NaN  "
      ]
     },
     "execution_count": 4,
     "metadata": {},
     "output_type": "execute_result"
    }
   ],
   "source": [
    "duckdb.sql(\"SELECT * FROM benchmarks\").to_df().describe(include=\"all\").transpose()"
   ]
  },
  {
   "cell_type": "code",
   "execution_count": 5,
   "metadata": {},
   "outputs": [],
   "source": [
    "\n",
    "df = duckdb.sql(\"\"\" \n",
    "FROM benchmarks\n",
    "SELECT \n",
    "tool\n",
    ", file_size\n",
    ", regexp_replace(operation, '\\d+$', '') as operation      -- remove trailing integers\n",
    ", execution_time\n",
    "\n",
    "\n",
    "\"\"\").to_df()\n"
   ]
  },
  {
   "cell_type": "code",
   "execution_count": 14,
   "metadata": {},
   "outputs": [
    {
     "name": "stderr",
     "output_type": "stream",
     "text": [
      "/Library/Frameworks/Python.framework/Versions/3.11/lib/python3.11/site-packages/seaborn/regression.py:598: UserWarning: legend_out is deprecated from the `lmplot` function signature. Please update your code to pass it using `facet_kws`.\n",
      "  warnings.warn(msg, UserWarning)\n"
     ]
    },
    {
     "data": {
      "image/png": "[encoded data removed]",
      "text/plain": [
       "<Figure size 1000x600 with 1 Axes>"
      ]
     },
     "metadata": {},
     "output_type": "display_data"
    }
   ],
   "source": [
    "import pandas as pd\n",
    "import seaborn as sns\n",
    "import matplotlib.pyplot as plt\n",
    "\n",
    "# Create the lmplot with legend positioned at the upper middle left\n",
    "g = sns.lmplot(x='file_size', y='execution_time', data=df, hue='tool', \n",
    "               height=6, aspect=10/6,\n",
    "               legend_out=False)  # Keep legend inside the plot\n",
    "\n",
    "# Get the figure and axes from the FacetGrid\n",
    "fig = g.fig\n",
    "ax = g.axes[0, 0]  # The first (and only) subplot\n",
    "\n",
    "# Set x-axis to log scale\n",
    "ax.set_xscale('log')\n",
    "\n",
    "# Add title and labels\n",
    "ax.set_title('Execution Time Distribution by Tool', fontsize=16)\n",
    "ax.set_xlabel('File Size (rows)', fontsize=14)\n",
    "ax.set_ylabel('Execution Time (seconds)', fontsize=14)\n",
    "\n",
    "# Add grid for better readability\n",
    "ax.grid(axis='y', linestyle='--', alpha=0.7)\n",
    "\n",
    "# Update the legend position\n",
    "handles, labels = ax.get_legend_handles_labels()\n",
    "ax.legend(handles, labels, loc='upper left', bbox_to_anchor=(0.6, .65))\n",
    "\n",
    "# Improve aesthetics\n",
    "sns.despine(left=False, bottom=False, ax=ax)\n",
    "plt.tight_layout()\n",
    "\n",
    "# Show the plot\n",
    "plt.show()"
   ]
  },
  {
   "cell_type": "code",
   "execution_count": null,
   "metadata": {},
   "outputs": [],
   "source": []
  },
  {
   "cell_type": "code",
   "execution_count": 13,
   "metadata": {},
   "outputs": [],
   "source": []
  },
  {
   "cell_type": "code",
   "execution_count": null,
   "metadata": {},
   "outputs": [],
   "source": []
  },
  {
   "cell_type": "markdown",
   "metadata": {},
   "source": []
  },
  {
   "cell_type": "code",
   "execution_count": 17,
   "id": "0b2eddcd-e86c-4798-87b5-18a05d92f710",
   "metadata": {},
   "outputs": [],
   "source": [
    "\n",
    "source_data_url = \"https://data.virginia.gov/dataset/3c786292-3dd5-4327-adad-79332a31683c/resource/59a6ed5f-11ec-49a2-b394-bbfd3e90fe72/download/eva_procurement_data_2025.csv\"\n",
    "target_file_path = \"eVA_procurement_data_2025.parquet\"\n",
    "# 865 MB."
   ]
  },
  {
   "cell_type": "code",
   "execution_count": 14,
   "id": "ebbc3ee2-7757-4092-a94c-a16cbb817976",
   "metadata": {},
   "outputs": [],
   "source": [
    "#%%\n",
    "\n",
    "duckdb.sql(\"install httpfs; load httpfs;\")"
   ]
  },
  {
   "cell_type": "code",
   "execution_count": null,
   "id": "36f3bffc-0e54-45c0-842d-70d33d341bd0",
   "metadata": {},
   "outputs": [],
   "source": [
    "duckdb.from_csv_auto(data_url).to_parquet(target_file_path)"
   ]
  },
  {
   "cell_type": "code",
   "execution_count": null,
   "id": "fa4a5f12-c7c4-49a2-9026-641c21349a20",
   "metadata": {},
   "outputs": [],
   "source": []
  }
 ],
 "metadata": {
  "kernelspec": {
   "display_name": "Python 3",
   "language": "python",
   "name": "python3"
  },
  "language_info": {
   "codemirror_mode": {
    "name": "ipython",
    "version": 3
   },
   "file_extension": ".py",
   "mimetype": "text/x-python",
   "name": "python",
   "nbconvert_exporter": "python",
   "pygments_lexer": "ipython3",
   "version": "3.11.4"
  }
 },
 "nbformat": 4,
 "nbformat_minor": 2
}
